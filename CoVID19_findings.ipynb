{
 "cells": [
  {
   "cell_type": "markdown",
   "metadata": {
    "collapsed": false
   },
   "source": [
    "# CoVID19 Findings\n",
    "\n",
    "This file is part of a University Project on Data Mining and Machine Learning.\n",
    "Brought to you by Ioannis Loudaros and Christina Kratimenou,students in the University of Patras.\n",
    "For more information read the report of the Project [here](https://github.com/iloudaros/Data-Mining-and-Machine-Learning-Project)"
   ]
  },
  {
   "cell_type": "code",
   "execution_count": 3,
   "metadata": {
    "collapsed": false
   },
   "outputs": [
    {
     "name": "stdout",
     "output_type": "stream",
     "text": [
      "<class 'pandas.core.frame.DataFrame'>\n",
      "RangeIndex: 38472 entries, 0 to 38471\n",
      "Data columns (total 15 columns):\n",
      " #   Column                           Non-Null Count  Dtype  \n",
      "---  ------                           --------------  -----  \n",
      " 0   Entity                           38472 non-null  object \n",
      " 1   Continent                        38472 non-null  object \n",
      " 2   Latitude                         38472 non-null  float64\n",
      " 3   Longitude                        38472 non-null  float64\n",
      " 4   Average temperature per year     38472 non-null  int64  \n",
      " 5   Hospital beds per 1000 people    38472 non-null  float64\n",
      " 6   Medical doctors per 1000 people  38472 non-null  float64\n",
      " 7   GDP/Capita                       38472 non-null  float64\n",
      " 8   Population                       38472 non-null  int64  \n",
      " 9   Median age                       38472 non-null  int64  \n",
      " 10  Population aged 65 and over (%)  38472 non-null  int64  \n",
      " 11  Date                             38472 non-null  object \n",
      " 12  Daily tests                      30577 non-null  float64\n",
      " 13  Cases                            38218 non-null  float64\n",
      " 14  Deaths                           34862 non-null  float64\n",
      "dtypes: float64(8), int64(4), object(3)\n",
      "memory usage: 4.4+ MB\n"
     ]
    },
    {
     "data": {
      "text/html": [
       "<div>\n",
       "<style scoped>\n",
       "    .dataframe tbody tr th:only-of-type {\n",
       "        vertical-align: middle;\n",
       "    }\n",
       "\n",
       "    .dataframe tbody tr th {\n",
       "        vertical-align: top;\n",
       "    }\n",
       "\n",
       "    .dataframe thead th {\n",
       "        text-align: right;\n",
       "    }\n",
       "</style>\n",
       "<table border=\"1\" class=\"dataframe\">\n",
       "  <thead>\n",
       "    <tr style=\"text-align: right;\">\n",
       "      <th></th>\n",
       "      <th>Latitude</th>\n",
       "      <th>Longitude</th>\n",
       "      <th>Average temperature per year</th>\n",
       "      <th>Hospital beds per 1000 people</th>\n",
       "      <th>Medical doctors per 1000 people</th>\n",
       "      <th>GDP/Capita</th>\n",
       "      <th>Population</th>\n",
       "      <th>Median age</th>\n",
       "      <th>Population aged 65 and over (%)</th>\n",
       "      <th>Daily tests</th>\n",
       "      <th>Cases</th>\n",
       "      <th>Deaths</th>\n",
       "    </tr>\n",
       "  </thead>\n",
       "  <tbody>\n",
       "    <tr>\n",
       "      <th>count</th>\n",
       "      <td>38472.000000</td>\n",
       "      <td>38472.000000</td>\n",
       "      <td>38472.000000</td>\n",
       "      <td>38472.000000</td>\n",
       "      <td>38472.000000</td>\n",
       "      <td>38472.000000</td>\n",
       "      <td>3.847200e+04</td>\n",
       "      <td>38472.000000</td>\n",
       "      <td>38472.000000</td>\n",
       "      <td>3.057700e+04</td>\n",
       "      <td>3.821800e+04</td>\n",
       "      <td>34862.000000</td>\n",
       "    </tr>\n",
       "    <tr>\n",
       "      <th>mean</th>\n",
       "      <td>23.737060</td>\n",
       "      <td>20.210847</td>\n",
       "      <td>17.717145</td>\n",
       "      <td>3.165305</td>\n",
       "      <td>2.086313</td>\n",
       "      <td>19002.331415</td>\n",
       "      <td>4.896983e+07</td>\n",
       "      <td>32.751508</td>\n",
       "      <td>10.663392</td>\n",
       "      <td>3.944059e+04</td>\n",
       "      <td>2.879027e+05</td>\n",
       "      <td>8090.504733</td>\n",
       "    </tr>\n",
       "    <tr>\n",
       "      <th>std</th>\n",
       "      <td>26.060413</td>\n",
       "      <td>61.074922</td>\n",
       "      <td>8.134926</td>\n",
       "      <td>2.561767</td>\n",
       "      <td>1.518252</td>\n",
       "      <td>22271.107786</td>\n",
       "      <td>1.427251e+08</td>\n",
       "      <td>8.472305</td>\n",
       "      <td>6.770417</td>\n",
       "      <td>1.501847e+05</td>\n",
       "      <td>1.405243e+06</td>\n",
       "      <td>29548.753221</td>\n",
       "    </tr>\n",
       "    <tr>\n",
       "      <th>min</th>\n",
       "      <td>-40.900000</td>\n",
       "      <td>-106.350000</td>\n",
       "      <td>-2.000000</td>\n",
       "      <td>0.200000</td>\n",
       "      <td>0.020000</td>\n",
       "      <td>411.600000</td>\n",
       "      <td>3.412840e+05</td>\n",
       "      <td>16.000000</td>\n",
       "      <td>1.000000</td>\n",
       "      <td>-2.391720e+05</td>\n",
       "      <td>1.000000e+00</td>\n",
       "      <td>1.000000</td>\n",
       "    </tr>\n",
       "    <tr>\n",
       "      <th>25%</th>\n",
       "      <td>8.620000</td>\n",
       "      <td>-3.440000</td>\n",
       "      <td>11.000000</td>\n",
       "      <td>1.400000</td>\n",
       "      <td>0.820000</td>\n",
       "      <td>3659.000000</td>\n",
       "      <td>4.793900e+06</td>\n",
       "      <td>27.000000</td>\n",
       "      <td>5.000000</td>\n",
       "      <td>1.505000e+03</td>\n",
       "      <td>2.074000e+03</td>\n",
       "      <td>77.000000</td>\n",
       "    </tr>\n",
       "    <tr>\n",
       "      <th>50%</th>\n",
       "      <td>27.510000</td>\n",
       "      <td>21.820000</td>\n",
       "      <td>20.000000</td>\n",
       "      <td>2.500000</td>\n",
       "      <td>1.890000</td>\n",
       "      <td>8821.800000</td>\n",
       "      <td>1.148464e+07</td>\n",
       "      <td>32.000000</td>\n",
       "      <td>8.000000</td>\n",
       "      <td>5.520000e+03</td>\n",
       "      <td>2.143100e+04</td>\n",
       "      <td>527.000000</td>\n",
       "    </tr>\n",
       "    <tr>\n",
       "      <th>75%</th>\n",
       "      <td>45.940000</td>\n",
       "      <td>47.480000</td>\n",
       "      <td>25.000000</td>\n",
       "      <td>4.490000</td>\n",
       "      <td>3.210000</td>\n",
       "      <td>25946.200000</td>\n",
       "      <td>4.286296e+07</td>\n",
       "      <td>41.000000</td>\n",
       "      <td>16.000000</td>\n",
       "      <td>2.038200e+04</td>\n",
       "      <td>1.373770e+05</td>\n",
       "      <td>3480.500000</td>\n",
       "    </tr>\n",
       "    <tr>\n",
       "      <th>max</th>\n",
       "      <td>64.960000</td>\n",
       "      <td>179.410000</td>\n",
       "      <td>29.000000</td>\n",
       "      <td>13.050000</td>\n",
       "      <td>7.520000</td>\n",
       "      <td>114704.600000</td>\n",
       "      <td>1.339180e+09</td>\n",
       "      <td>48.000000</td>\n",
       "      <td>28.000000</td>\n",
       "      <td>2.945871e+06</td>\n",
       "      <td>2.860567e+07</td>\n",
       "      <td>513091.000000</td>\n",
       "    </tr>\n",
       "  </tbody>\n",
       "</table>\n",
       "</div>"
      ],
      "text/plain": [
       "           Latitude     Longitude  Average temperature per year  \\\n",
       "count  38472.000000  38472.000000                  38472.000000   \n",
       "mean      23.737060     20.210847                     17.717145   \n",
       "std       26.060413     61.074922                      8.134926   \n",
       "min      -40.900000   -106.350000                     -2.000000   \n",
       "25%        8.620000     -3.440000                     11.000000   \n",
       "50%       27.510000     21.820000                     20.000000   \n",
       "75%       45.940000     47.480000                     25.000000   \n",
       "max       64.960000    179.410000                     29.000000   \n",
       "\n",
       "       Hospital beds per 1000 people  Medical doctors per 1000 people  \\\n",
       "count                   38472.000000                     38472.000000   \n",
       "mean                        3.165305                         2.086313   \n",
       "std                         2.561767                         1.518252   \n",
       "min                         0.200000                         0.020000   \n",
       "25%                         1.400000                         0.820000   \n",
       "50%                         2.500000                         1.890000   \n",
       "75%                         4.490000                         3.210000   \n",
       "max                        13.050000                         7.520000   \n",
       "\n",
       "          GDP/Capita    Population    Median age  \\\n",
       "count   38472.000000  3.847200e+04  38472.000000   \n",
       "mean    19002.331415  4.896983e+07     32.751508   \n",
       "std     22271.107786  1.427251e+08      8.472305   \n",
       "min       411.600000  3.412840e+05     16.000000   \n",
       "25%      3659.000000  4.793900e+06     27.000000   \n",
       "50%      8821.800000  1.148464e+07     32.000000   \n",
       "75%     25946.200000  4.286296e+07     41.000000   \n",
       "max    114704.600000  1.339180e+09     48.000000   \n",
       "\n",
       "       Population aged 65 and over (%)   Daily tests         Cases  \\\n",
       "count                     38472.000000  3.057700e+04  3.821800e+04   \n",
       "mean                         10.663392  3.944059e+04  2.879027e+05   \n",
       "std                           6.770417  1.501847e+05  1.405243e+06   \n",
       "min                           1.000000 -2.391720e+05  1.000000e+00   \n",
       "25%                           5.000000  1.505000e+03  2.074000e+03   \n",
       "50%                           8.000000  5.520000e+03  2.143100e+04   \n",
       "75%                          16.000000  2.038200e+04  1.373770e+05   \n",
       "max                          28.000000  2.945871e+06  2.860567e+07   \n",
       "\n",
       "              Deaths  \n",
       "count   34862.000000  \n",
       "mean     8090.504733  \n",
       "std     29548.753221  \n",
       "min         1.000000  \n",
       "25%        77.000000  \n",
       "50%       527.000000  \n",
       "75%      3480.500000  \n",
       "max    513091.000000  "
      ]
     },
     "execution_count": 3,
     "metadata": {},
     "output_type": "execute_result"
    }
   ],
   "source": [
    "# data visualization\n",
    "import seaborn as sns\n",
    "%matplotlib inline\n",
    "from matplotlib import pyplot as plt\n",
    "import pandas as pd\n",
    "\n",
    "#Importing the dataset\n",
    "dataset_file = \"given/data.csv\"\n",
    "\n",
    "dataset = pd.read_csv(dataset_file)\n",
    "\n",
    "#Exploring the dataset\n",
    "dataset.info()\n",
    "dataset.describe()"
   ]
  },
  {
   "cell_type": "code",
   "execution_count": 4,
   "metadata": {
    "collapsed": false
   },
   "outputs": [
    {
     "name": "stdout",
     "output_type": "stream",
     "text": [
      "    Entity Continent  Latitude  Longitude  Average temperature per year  \\\n",
      "0  Albania    Europe     41.15      20.17                            14   \n",
      "1  Albania    Europe     41.15      20.17                            14   \n",
      "2  Albania    Europe     41.15      20.17                            14   \n",
      "3  Albania    Europe     41.15      20.17                            14   \n",
      "4  Albania    Europe     41.15      20.17                            14   \n",
      "\n",
      "   Hospital beds per 1000 people  Medical doctors per 1000 people  GDP/Capita  \\\n",
      "0                           2.89                             1.29      5353.2   \n",
      "1                           2.89                             1.29      5353.2   \n",
      "2                           2.89                             1.29      5353.2   \n",
      "3                           2.89                             1.29      5353.2   \n",
      "4                           2.89                             1.29      5353.2   \n",
      "\n",
      "   Population  Median age  Population aged 65 and over (%)        Date  \\\n",
      "0     2873457          38                               14  2020-02-25   \n",
      "1     2873457          38                               14  2020-02-26   \n",
      "2     2873457          38                               14  2020-02-27   \n",
      "3     2873457          38                               14  2020-02-28   \n",
      "4     2873457          38                               14  2020-02-29   \n",
      "\n",
      "   Daily tests  Cases  Deaths  \n",
      "0          8.0    NaN     NaN  \n",
      "1          5.0    NaN     NaN  \n",
      "2          4.0    NaN     NaN  \n",
      "3          1.0    NaN     NaN  \n",
      "4          8.0    NaN     NaN  \n"
     ]
    }
   ],
   "source": [
    "print(dataset.head())"
   ]
  },
  {
   "cell_type": "markdown",
   "metadata": {
    "collapsed": false
   },
   "source": [
    "# Data Preproccessing\n"
   ]
  },
  {
   "cell_type": "markdown",
   "metadata": {
    "collapsed": false
   },
   "source": [
    "## B. Data Transformation"
   ]
  },
  {
   "cell_type": "markdown",
   "metadata": {
    "collapsed": false
   },
   "source": [
    "# Correlations\n",
    "A good source of titanic dataset statistical analysis starting with the basics and concludes on analysing various correlations among the dataset at the following link [^1]\n",
    "\n",
    "[^1]: https://makeschool.org/mediabook/oa/tutorials/titanic-dataset-tutorial-an-intro-to-data-analysis-and-statistics-n40/jupyter-notebooks/"
   ]
  },
  {
   "cell_type": "markdown",
   "metadata": {
    "collapsed": false
   },
   "source": [
    "### Graphical Correlations"
   ]
  },
  {
   "cell_type": "markdown",
   "metadata": {
    "collapsed": false
   },
   "source": [
    "### Correlation Heatmap"
   ]
  },
  {
   "cell_type": "markdown",
   "metadata": {
    "collapsed": false
   },
   "source": [
    "# Machine Learning Models"
   ]
  },
  {
   "cell_type": "markdown",
   "metadata": {
    "collapsed": false
   },
   "source": [
    "### Visualization"
   ]
  }
 ],
 "metadata": {
  "kernelspec": {
   "display_name": "Python 3",
   "language": "python",
   "name": "python3"
  },
  "language_info": {
   "codemirror_mode": {
    "name": "ipython",
    "version": 3
   },
   "file_extension": ".py",
   "mimetype": "text/x-python",
   "name": "python",
   "nbconvert_exporter": "python",
   "pygments_lexer": "ipython3",
   "version": "3.10.4"
  }
 },
 "nbformat": 4,
 "nbformat_minor": 0
}
